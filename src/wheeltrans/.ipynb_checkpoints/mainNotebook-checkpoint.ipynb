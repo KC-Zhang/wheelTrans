{
 "cells": [
  {
   "cell_type": "code",
   "execution_count": 1,
   "metadata": {
    "ExecuteTime": {
     "end_time": "2024-03-07T03:50:47.649572Z",
     "start_time": "2024-03-07T03:50:47.644877Z"
    }
   },
   "outputs": [],
   "source": [
    "import requests\n",
    "import os\n",
    "from google.auth import default\n",
    "from google.auth.transport.requests import Request\n",
    "from google.cloud import optimization_v1\n",
    "import googlemaps\n",
    "from dotenv import load_dotenv\n",
    "\n",
    "load_dotenv()\n",
    "\n",
    "proxy_address = \"http://127.0.0.1:7890\"\n",
    "# Set the environment variables to specify the proxy\n",
    "os.environ[\"HTTP_PROXY\"] = proxy_address\n",
    "os.environ[\"HTTPS_PROXY\"] = proxy_address\n",
    "os.environ[\"GOOGLE_APPLICATION_CREDENTIALS\"] = \"/Users/kaicheng/ProjectsFormal/wheelTrans/secrets/key.json\"\n",
    "os.environ[\"PROJECT_ID\"] = \"elderlyhometransportation\"\n",
    "googleMapKey = os.getenv(\"GOOGLE_MAP_API_KEY\")\n",
    "\n"
   ]
  },
  {
   "cell_type": "code",
   "execution_count": 2,
   "metadata": {
    "ExecuteTime": {
     "end_time": "2024-03-07T03:51:09.153653Z",
     "start_time": "2024-03-07T03:51:09.151088Z"
    },
    "collapsed": false,
    "jupyter": {
     "outputs_hidden": false
    }
   },
   "outputs": [],
   "source": [
    "def call_sync_api() -> None:\n",
    "    request_file_name = \"resources/request.json\"\n",
    "    fleet_routing_client = optimization_v1.FleetRoutingClient()\n",
    "\n",
    "    with open(request_file_name) as f:\n",
    "        fleet_routing_request = optimization_v1.OptimizeToursRequest.from_json(f.read())\n",
    "        fleet_routing_request.parent = f\"projects/elderlyhometransportation\"\n",
    "        fleet_routing_response = fleet_routing_client.optimize_tours(\n",
    "            fleet_routing_request, timeout=10\n",
    "        )\n",
    "        return fleet_routing_response\n",
    "\n",
    "\n",
    "def get_direction(origin, destination, waypoints):\n",
    "    waypoints_str = \"|\".join([\"optimize:true\"] + waypoints)\n",
    "    base_url = \"https://maps.googleapis.com/maps/api/directions/json\"\n",
    "    google_map_api_key = os.getenv(\"GOOGLE_MAP_API_KEY\")\n",
    "\n",
    "    params = {\n",
    "        \"destination\": destination,\n",
    "        \"origin\": origin,\n",
    "        \"waypoints\": waypoints_str,\n",
    "        \"key\": google_map_api_key\n",
    "    }\n",
    "\n",
    "    response = requests.get(base_url, params=params)\n",
    "    if response.status_code == 200:\n",
    "        return response.text\n",
    "    else:\n",
    "        print(f\"Request failed with status code: {response.status_code}\")\n",
    "        return None\n",
    "\n",
    "\n",
    "def get_geocoding(gmaps, address):\n",
    "    result = gmaps.geocode(address)\n",
    "    if not result or len(result) != 1:\n",
    "        print(f\"Failed to get geocoding for {address}\")\n",
    "        return None\n",
    "    location = result[0]['geometry']['location']\n",
    "    lat = location[\"lat\"]\n",
    "    lng = location[\"lng\"]\n",
    "    return [lat, lng]\n",
    "\n",
    "\n",
    "origin = \"8408 Garvey Ave. #101 Rosemead, CA 91770\"\n",
    "destination = \"8408 Garvey Ave. #101 Rosemead, CA 91770\"\n",
    "address1 = \"3843 Maxson Road #226 El Monte, CA 91732\"\n",
    "address2 = \"119 Garcelon Ave Apt B Monterey Park, CA 91754\"\n",
    "waypoints = [origin, address1, address2, destination]\n",
    "# get_direction(origin, destination, waypoints, destination)\n",
    "# get_geocoding(origin)\n",
    "# get_geocoding(address1)\n",
    "# get_geocoding(address2)\n",
    "# gmaps = googlemaps.Client(key=os.getenv(\"GOOGLE_MAP_API_KEY\"))\n",
    "# coordinates = []\n",
    "# for location in waypoints:\n",
    "#     coordinates.append(get_geocoding(gmaps, location))\n",
    "# print(coordinates)\n",
    "# response = call_sync_api()\n"
   ]
  },
  {
   "cell_type": "code",
   "execution_count": 3,
   "metadata": {
    "ExecuteTime": {
     "end_time": "2024-03-07T03:51:12.032034Z",
     "start_time": "2024-03-07T03:51:11.605277Z"
    },
    "collapsed": false,
    "jupyter": {
     "outputs_hidden": false
    }
   },
   "outputs": [
    {
     "ename": "FileNotFoundError",
     "evalue": "[Errno 2] No such file or directory: 'src/resources/TransportList.xlsx'",
     "output_type": "error",
     "traceback": [
      "\u001b[0;31m---------------------------------------------------------------------------\u001b[0m",
      "\u001b[0;31mFileNotFoundError\u001b[0m                         Traceback (most recent call last)",
      "Cell \u001b[0;32mIn[3], line 3\u001b[0m\n\u001b[1;32m      1\u001b[0m \u001b[38;5;28;01mimport\u001b[39;00m \u001b[38;5;21;01mpandas\u001b[39;00m\n\u001b[0;32m----> 3\u001b[0m df \u001b[38;5;241m=\u001b[39m \u001b[43mpandas\u001b[49m\u001b[38;5;241;43m.\u001b[39;49m\u001b[43mread_excel\u001b[49m\u001b[43m(\u001b[49m\u001b[38;5;124;43m\"\u001b[39;49m\u001b[38;5;124;43msrc/resources/TransportList.xlsx\u001b[39;49m\u001b[38;5;124;43m\"\u001b[39;49m\u001b[43m)\u001b[49m\n\u001b[1;32m      4\u001b[0m addresses \u001b[38;5;241m=\u001b[39m addresses \u001b[38;5;241m=\u001b[39m df[\u001b[38;5;124m'\u001b[39m\u001b[38;5;124mAddress\u001b[39m\u001b[38;5;124m'\u001b[39m]\u001b[38;5;241m.\u001b[39mdropna()\u001b[38;5;241m.\u001b[39mtolist()\n\u001b[1;32m      5\u001b[0m \u001b[38;5;66;03m#dev short\u001b[39;00m\n",
      "File \u001b[0;32m~/ProjectsFormal/wheelTrans/.venv/lib/python3.11/site-packages/pandas/io/excel/_base.py:495\u001b[0m, in \u001b[0;36mread_excel\u001b[0;34m(io, sheet_name, header, names, index_col, usecols, dtype, engine, converters, true_values, false_values, skiprows, nrows, na_values, keep_default_na, na_filter, verbose, parse_dates, date_parser, date_format, thousands, decimal, comment, skipfooter, storage_options, dtype_backend, engine_kwargs)\u001b[0m\n\u001b[1;32m    493\u001b[0m \u001b[38;5;28;01mif\u001b[39;00m \u001b[38;5;129;01mnot\u001b[39;00m \u001b[38;5;28misinstance\u001b[39m(io, ExcelFile):\n\u001b[1;32m    494\u001b[0m     should_close \u001b[38;5;241m=\u001b[39m \u001b[38;5;28;01mTrue\u001b[39;00m\n\u001b[0;32m--> 495\u001b[0m     io \u001b[38;5;241m=\u001b[39m \u001b[43mExcelFile\u001b[49m\u001b[43m(\u001b[49m\n\u001b[1;32m    496\u001b[0m \u001b[43m        \u001b[49m\u001b[43mio\u001b[49m\u001b[43m,\u001b[49m\n\u001b[1;32m    497\u001b[0m \u001b[43m        \u001b[49m\u001b[43mstorage_options\u001b[49m\u001b[38;5;241;43m=\u001b[39;49m\u001b[43mstorage_options\u001b[49m\u001b[43m,\u001b[49m\n\u001b[1;32m    498\u001b[0m \u001b[43m        \u001b[49m\u001b[43mengine\u001b[49m\u001b[38;5;241;43m=\u001b[39;49m\u001b[43mengine\u001b[49m\u001b[43m,\u001b[49m\n\u001b[1;32m    499\u001b[0m \u001b[43m        \u001b[49m\u001b[43mengine_kwargs\u001b[49m\u001b[38;5;241;43m=\u001b[39;49m\u001b[43mengine_kwargs\u001b[49m\u001b[43m,\u001b[49m\n\u001b[1;32m    500\u001b[0m \u001b[43m    \u001b[49m\u001b[43m)\u001b[49m\n\u001b[1;32m    501\u001b[0m \u001b[38;5;28;01melif\u001b[39;00m engine \u001b[38;5;129;01mand\u001b[39;00m engine \u001b[38;5;241m!=\u001b[39m io\u001b[38;5;241m.\u001b[39mengine:\n\u001b[1;32m    502\u001b[0m     \u001b[38;5;28;01mraise\u001b[39;00m \u001b[38;5;167;01mValueError\u001b[39;00m(\n\u001b[1;32m    503\u001b[0m         \u001b[38;5;124m\"\u001b[39m\u001b[38;5;124mEngine should not be specified when passing \u001b[39m\u001b[38;5;124m\"\u001b[39m\n\u001b[1;32m    504\u001b[0m         \u001b[38;5;124m\"\u001b[39m\u001b[38;5;124man ExcelFile - ExcelFile already has the engine set\u001b[39m\u001b[38;5;124m\"\u001b[39m\n\u001b[1;32m    505\u001b[0m     )\n",
      "File \u001b[0;32m~/ProjectsFormal/wheelTrans/.venv/lib/python3.11/site-packages/pandas/io/excel/_base.py:1550\u001b[0m, in \u001b[0;36mExcelFile.__init__\u001b[0;34m(self, path_or_buffer, engine, storage_options, engine_kwargs)\u001b[0m\n\u001b[1;32m   1548\u001b[0m     ext \u001b[38;5;241m=\u001b[39m \u001b[38;5;124m\"\u001b[39m\u001b[38;5;124mxls\u001b[39m\u001b[38;5;124m\"\u001b[39m\n\u001b[1;32m   1549\u001b[0m \u001b[38;5;28;01melse\u001b[39;00m:\n\u001b[0;32m-> 1550\u001b[0m     ext \u001b[38;5;241m=\u001b[39m \u001b[43minspect_excel_format\u001b[49m\u001b[43m(\u001b[49m\n\u001b[1;32m   1551\u001b[0m \u001b[43m        \u001b[49m\u001b[43mcontent_or_path\u001b[49m\u001b[38;5;241;43m=\u001b[39;49m\u001b[43mpath_or_buffer\u001b[49m\u001b[43m,\u001b[49m\u001b[43m \u001b[49m\u001b[43mstorage_options\u001b[49m\u001b[38;5;241;43m=\u001b[39;49m\u001b[43mstorage_options\u001b[49m\n\u001b[1;32m   1552\u001b[0m \u001b[43m    \u001b[49m\u001b[43m)\u001b[49m\n\u001b[1;32m   1553\u001b[0m     \u001b[38;5;28;01mif\u001b[39;00m ext \u001b[38;5;129;01mis\u001b[39;00m \u001b[38;5;28;01mNone\u001b[39;00m:\n\u001b[1;32m   1554\u001b[0m         \u001b[38;5;28;01mraise\u001b[39;00m \u001b[38;5;167;01mValueError\u001b[39;00m(\n\u001b[1;32m   1555\u001b[0m             \u001b[38;5;124m\"\u001b[39m\u001b[38;5;124mExcel file format cannot be determined, you must specify \u001b[39m\u001b[38;5;124m\"\u001b[39m\n\u001b[1;32m   1556\u001b[0m             \u001b[38;5;124m\"\u001b[39m\u001b[38;5;124man engine manually.\u001b[39m\u001b[38;5;124m\"\u001b[39m\n\u001b[1;32m   1557\u001b[0m         )\n",
      "File \u001b[0;32m~/ProjectsFormal/wheelTrans/.venv/lib/python3.11/site-packages/pandas/io/excel/_base.py:1402\u001b[0m, in \u001b[0;36minspect_excel_format\u001b[0;34m(content_or_path, storage_options)\u001b[0m\n\u001b[1;32m   1399\u001b[0m \u001b[38;5;28;01mif\u001b[39;00m \u001b[38;5;28misinstance\u001b[39m(content_or_path, \u001b[38;5;28mbytes\u001b[39m):\n\u001b[1;32m   1400\u001b[0m     content_or_path \u001b[38;5;241m=\u001b[39m BytesIO(content_or_path)\n\u001b[0;32m-> 1402\u001b[0m \u001b[38;5;28;01mwith\u001b[39;00m \u001b[43mget_handle\u001b[49m\u001b[43m(\u001b[49m\n\u001b[1;32m   1403\u001b[0m \u001b[43m    \u001b[49m\u001b[43mcontent_or_path\u001b[49m\u001b[43m,\u001b[49m\u001b[43m \u001b[49m\u001b[38;5;124;43m\"\u001b[39;49m\u001b[38;5;124;43mrb\u001b[39;49m\u001b[38;5;124;43m\"\u001b[39;49m\u001b[43m,\u001b[49m\u001b[43m \u001b[49m\u001b[43mstorage_options\u001b[49m\u001b[38;5;241;43m=\u001b[39;49m\u001b[43mstorage_options\u001b[49m\u001b[43m,\u001b[49m\u001b[43m \u001b[49m\u001b[43mis_text\u001b[49m\u001b[38;5;241;43m=\u001b[39;49m\u001b[38;5;28;43;01mFalse\u001b[39;49;00m\n\u001b[1;32m   1404\u001b[0m \u001b[43m\u001b[49m\u001b[43m)\u001b[49m \u001b[38;5;28;01mas\u001b[39;00m handle:\n\u001b[1;32m   1405\u001b[0m     stream \u001b[38;5;241m=\u001b[39m handle\u001b[38;5;241m.\u001b[39mhandle\n\u001b[1;32m   1406\u001b[0m     stream\u001b[38;5;241m.\u001b[39mseek(\u001b[38;5;241m0\u001b[39m)\n",
      "File \u001b[0;32m~/ProjectsFormal/wheelTrans/.venv/lib/python3.11/site-packages/pandas/io/common.py:882\u001b[0m, in \u001b[0;36mget_handle\u001b[0;34m(path_or_buf, mode, encoding, compression, memory_map, is_text, errors, storage_options)\u001b[0m\n\u001b[1;32m    873\u001b[0m         handle \u001b[38;5;241m=\u001b[39m \u001b[38;5;28mopen\u001b[39m(\n\u001b[1;32m    874\u001b[0m             handle,\n\u001b[1;32m    875\u001b[0m             ioargs\u001b[38;5;241m.\u001b[39mmode,\n\u001b[0;32m   (...)\u001b[0m\n\u001b[1;32m    878\u001b[0m             newline\u001b[38;5;241m=\u001b[39m\u001b[38;5;124m\"\u001b[39m\u001b[38;5;124m\"\u001b[39m,\n\u001b[1;32m    879\u001b[0m         )\n\u001b[1;32m    880\u001b[0m     \u001b[38;5;28;01melse\u001b[39;00m:\n\u001b[1;32m    881\u001b[0m         \u001b[38;5;66;03m# Binary mode\u001b[39;00m\n\u001b[0;32m--> 882\u001b[0m         handle \u001b[38;5;241m=\u001b[39m \u001b[38;5;28;43mopen\u001b[39;49m\u001b[43m(\u001b[49m\u001b[43mhandle\u001b[49m\u001b[43m,\u001b[49m\u001b[43m \u001b[49m\u001b[43mioargs\u001b[49m\u001b[38;5;241;43m.\u001b[39;49m\u001b[43mmode\u001b[49m\u001b[43m)\u001b[49m\n\u001b[1;32m    883\u001b[0m     handles\u001b[38;5;241m.\u001b[39mappend(handle)\n\u001b[1;32m    885\u001b[0m \u001b[38;5;66;03m# Convert BytesIO or file objects passed with an encoding\u001b[39;00m\n",
      "\u001b[0;31mFileNotFoundError\u001b[0m: [Errno 2] No such file or directory: 'src/resources/TransportList.xlsx'"
     ]
    }
   ],
   "source": [
    "import pandas\n",
    "\n",
    "df = pandas.read_excel(\"src/resources/TransportList.xlsx\")\n",
    "addresses = addresses = df['Address'].dropna().tolist()\n",
    "#dev short\n",
    "addresses = addresses[:10]\n",
    "addresses"
   ]
  },
  {
   "cell_type": "markdown",
   "metadata": {
    "ExecuteTime": {
     "end_time": "2024-03-06T10:14:43.820532Z",
     "start_time": "2024-03-06T10:14:43.815847Z"
    }
   },
   "source": []
  },
  {
   "cell_type": "code",
   "execution_count": 5,
   "metadata": {
    "ExecuteTime": {
     "end_time": "2024-03-06T10:44:44.236924Z",
     "start_time": "2024-03-06T10:44:41.425043Z"
    },
    "collapsed": false,
    "jupyter": {
     "outputs_hidden": false
    }
   },
   "outputs": [
    {
     "data": {
      "text/plain": [
       "[[34.072393, -118.0102374],\n",
       " [34.0651666, -118.12373],\n",
       " [34.0651666, -118.12373],\n",
       " [34.072393, -118.0102374],\n",
       " [34.072393, -118.0102374],\n",
       " [34.0564491, -118.0874686],\n",
       " [34.0600187, -118.1244518],\n",
       " [34.122069, -118.0391543],\n",
       " [34.122069, -118.0391543],\n",
       " [34.0709251, -118.0357052]]"
      ]
     },
     "execution_count": 5,
     "metadata": {},
     "output_type": "execute_result"
    }
   ],
   "source": [
    "gmaps = googlemaps.Client(key=os.getenv(\"GOOGLE_MAP_API_KEY\"))\n",
    "coordinates = []\n",
    "for address in addresses:\n",
    "    latlng = get_geocoding(gmaps, address)\n",
    "    if latlng:\n",
    "        coordinates.append(latlng)\n",
    "    else:\n",
    "        print(f\"Failed to get geocoding for {address}\")\n",
    "coordinates"
   ]
  },
  {
   "cell_type": "code",
   "execution_count": 8,
   "metadata": {
    "ExecuteTime": {
     "end_time": "2024-03-06T10:47:40.152047Z",
     "start_time": "2024-03-06T10:47:40.149222Z"
    },
    "collapsed": false,
    "jupyter": {
     "outputs_hidden": false
    }
   },
   "outputs": [
    {
     "data": {
      "text/plain": [
       "{'parent': 'projects/elderlyhometransportation',\n",
       " 'model': {'shipments': [{'pickups': [{'arrivalLocation': {'latitude': 34.072393,\n",
       "       'longitude': [34.072393, -118.0102374]},\n",
       "      'duration': '150s',\n",
       "      'timeWindows': [{'endTime': '1970-01-01T00:33:20Z',\n",
       "        'startTime': '1970-01-01T00:16:40Z'}]}]},\n",
       "   {'pickups': [{'arrivalLocation': {'latitude': 34.0651666,\n",
       "       'longitude': [34.0651666, -118.12373]},\n",
       "      'duration': '150s',\n",
       "      'timeWindows': [{'endTime': '1970-01-01T00:33:20Z',\n",
       "        'startTime': '1970-01-01T00:16:40Z'}]}]},\n",
       "   {'pickups': [{'arrivalLocation': {'latitude': 34.0651666,\n",
       "       'longitude': [34.0651666, -118.12373]},\n",
       "      'duration': '150s',\n",
       "      'timeWindows': [{'endTime': '1970-01-01T00:33:20Z',\n",
       "        'startTime': '1970-01-01T00:16:40Z'}]}]},\n",
       "   {'pickups': [{'arrivalLocation': {'latitude': 34.072393,\n",
       "       'longitude': [34.072393, -118.0102374]},\n",
       "      'duration': '150s',\n",
       "      'timeWindows': [{'endTime': '1970-01-01T00:33:20Z',\n",
       "        'startTime': '1970-01-01T00:16:40Z'}]}]},\n",
       "   {'pickups': [{'arrivalLocation': {'latitude': 34.072393,\n",
       "       'longitude': [34.072393, -118.0102374]},\n",
       "      'duration': '150s',\n",
       "      'timeWindows': [{'endTime': '1970-01-01T00:33:20Z',\n",
       "        'startTime': '1970-01-01T00:16:40Z'}]}]},\n",
       "   {'pickups': [{'arrivalLocation': {'latitude': 34.0564491,\n",
       "       'longitude': [34.0564491, -118.0874686]},\n",
       "      'duration': '150s',\n",
       "      'timeWindows': [{'endTime': '1970-01-01T00:33:20Z',\n",
       "        'startTime': '1970-01-01T00:16:40Z'}]}]},\n",
       "   {'pickups': [{'arrivalLocation': {'latitude': 34.0600187,\n",
       "       'longitude': [34.0600187, -118.1244518]},\n",
       "      'duration': '150s',\n",
       "      'timeWindows': [{'endTime': '1970-01-01T00:33:20Z',\n",
       "        'startTime': '1970-01-01T00:16:40Z'}]}]},\n",
       "   {'pickups': [{'arrivalLocation': {'latitude': 34.122069,\n",
       "       'longitude': [34.122069, -118.0391543]},\n",
       "      'duration': '150s',\n",
       "      'timeWindows': [{'endTime': '1970-01-01T00:33:20Z',\n",
       "        'startTime': '1970-01-01T00:16:40Z'}]}]},\n",
       "   {'pickups': [{'arrivalLocation': {'latitude': 34.122069,\n",
       "       'longitude': [34.122069, -118.0391543]},\n",
       "      'duration': '150s',\n",
       "      'timeWindows': [{'endTime': '1970-01-01T00:33:20Z',\n",
       "        'startTime': '1970-01-01T00:16:40Z'}]}]},\n",
       "   {'pickups': [{'arrivalLocation': {'latitude': 34.0709251,\n",
       "       'longitude': [34.0709251, -118.0357052]},\n",
       "      'duration': '150s',\n",
       "      'timeWindows': [{'endTime': '1970-01-01T00:33:20Z',\n",
       "        'startTime': '1970-01-01T00:16:40Z'}]}]}],\n",
       "  'vehicles': [{'loadLimits': {'weight': {'maxLoad': 5}},\n",
       "    'endLocation': {'latitude': 34.0623483, 'longitude': -118.0859541},\n",
       "    'startLocation': {'latitude': 34.0623483, 'longitude': -118.0859541}},\n",
       "   {'loadLimits': {'weight': {'maxLoad': 6}},\n",
       "    'endLocation': {'latitude': 34.0623483, 'longitude': -118.0859541},\n",
       "    'startLocation': {'latitude': 34.0623483, 'longitude': -118.0859541}}]}}"
      ]
     },
     "execution_count": 8,
     "metadata": {},
     "output_type": "execute_result"
    }
   ],
   "source": [
    "from resources.vehicles import vehicles\n",
    "\n",
    "shipments = list(map(lambda latlng:\n",
    "                     {\n",
    "                         \"loadDemands\": {\n",
    "                             \"weight\": {\n",
    "                                 \"amount\": \"1\"\n",
    "                             }\n",
    "                         },\n",
    "                         \"pickups\": [\n",
    "                             {\n",
    "                                 \"arrivalLocation\": {\n",
    "                                     \"latitude\": latlng[0],\n",
    "                                     \"longitude\": latlng\n",
    "                                 },\n",
    "                                 \"duration\": \"150s\",\n",
    "                                 \"timeWindows\": [\n",
    "                                     {\n",
    "                                         \"endTime\": \"1970-01-01T00:33:20Z\",\n",
    "                                         \"startTime\": \"1970-01-01T00:16:40Z\"\n",
    "                                     }\n",
    "                                 ]\n",
    "                             }\n",
    "                         ]\n",
    "                     }\n",
    "                     , coordinates))\n",
    "fleetOptimizationRequest = {\n",
    "    \"parent\": \"projects/elderlyhometransportation\",\n",
    "    \"model\": {\n",
    "        \"shipments\": shipments,\n",
    "        \"vehicles\": vehicles\n",
    "    }\n",
    "}\n",
    "fleetOptimizationRequest"
   ]
  },
  {
   "cell_type": "code",
   "execution_count": null,
   "metadata": {
    "collapsed": false,
    "jupyter": {
     "outputs_hidden": false
    }
   },
   "outputs": [],
   "source": [
    "fleet_routing_client = optimization_v1.FleetRoutingClient()\n",
    "response = fleet_routing_client.optimize_tours(\n",
    "    fleetOptimizationRequest, timeout=10\n",
    ")"
   ]
  },
  {
   "cell_type": "code",
   "execution_count": 10,
   "metadata": {
    "ExecuteTime": {
     "end_time": "2024-03-06T10:48:25.612936Z",
     "start_time": "2024-03-06T10:48:22.969248Z"
    },
    "collapsed": false,
    "jupyter": {
     "outputs_hidden": false
    }
   },
   "outputs": [],
   "source": [
    "routes = response.routes\n",
    "routesPb0 = response.routes[0]\n",
    "routesPb1 = response.routes[1]\n",
    "a = list(map(lambda x: {\"vehicleIndex\": x.vehicle_index}, routes))\n"
   ]
  }
 ],
 "metadata": {
  "kernelspec": {
   "display_name": "Python 3 (ipykernel)",
   "language": "python",
   "name": "python3"
  },
  "language_info": {
   "codemirror_mode": {
    "name": "ipython",
    "version": 3
   },
   "file_extension": ".py",
   "mimetype": "text/x-python",
   "name": "python",
   "nbconvert_exporter": "python",
   "pygments_lexer": "ipython3",
   "version": "3.11.6"
  }
 },
 "nbformat": 4,
 "nbformat_minor": 4
}
